{
  "nbformat": 4,
  "nbformat_minor": 0,
  "metadata": {
    "colab": {
      "name": "colab-notebook-tutorial.ipynb",
      "provenance": [],
      "collapsed_sections": []
    },
    "kernelspec": {
      "name": "python3",
      "display_name": "Python 3"
    },
    "language_info": {
      "name": "python"
    }
  },
  "cells": [
    {
      "cell_type": "markdown",
      "metadata": {
        "id": "wSN5n7sqU5b-"
      },
      "source": [
        "Example: An implementation of the classic quicksort algorithm in Python"
      ]
    },
    {
      "cell_type": "code",
      "metadata": {
        "id": "64bbkY7YRTOS"
      },
      "source": [
        "def quicksort(arr):\n",
        "  if len(arr) <= 1:\n",
        "    return arr\n",
        "  \n",
        "  pivot = arr[len(arr) // 2] # Floor division\n",
        "  left = [x for x in arr if x < pivot]\n",
        "  middle = [x for x in arr if x == pivot]\n",
        "  right  = [x for x in arr if x > pivot]\n",
        "  return quicksort(left) + middle + quicksort(right)"
      ],
      "execution_count": 1,
      "outputs": []
    },
    {
      "cell_type": "code",
      "metadata": {
        "colab": {
          "base_uri": "https://localhost:8080/"
        },
        "id": "nSRhc7DwVvZ0",
        "outputId": "a68bf934-93bd-4eeb-9d8c-04b70bfc02d3"
      },
      "source": [
        "quicksort([7, 8, 1, 5, 9, 10, 2, 3, 6, 4])"
      ],
      "execution_count": 4,
      "outputs": [
        {
          "output_type": "execute_result",
          "data": {
            "text/plain": [
              "[1, 2, 3, 4, 5, 6, 7, 8, 9, 10]"
            ]
          },
          "metadata": {},
          "execution_count": 4
        }
      ]
    },
    {
      "cell_type": "markdown",
      "metadata": {
        "id": "TM7I4q_MXwzo"
      },
      "source": [
        "**Basic data types**\n",
        "\n",
        "Numbers: Integers and floats work as you would expect from other languages"
      ]
    },
    {
      "cell_type": "code",
      "metadata": {
        "colab": {
          "base_uri": "https://localhost:8080/"
        },
        "id": "OVp8VDvIV-O0",
        "outputId": "834bc783-8d38-4740-ca40-6642578a123a"
      },
      "source": [
        "x = 5\n",
        "print(type(x))"
      ],
      "execution_count": 7,
      "outputs": [
        {
          "output_type": "stream",
          "name": "stdout",
          "text": [
            "<class 'int'>\n"
          ]
        }
      ]
    },
    {
      "cell_type": "code",
      "metadata": {
        "colab": {
          "base_uri": "https://localhost:8080/"
        },
        "id": "9v-twjC_X67h",
        "outputId": "33b41564-3529-45fc-aeb7-74e72444ed73"
      },
      "source": [
        "print(x)"
      ],
      "execution_count": 8,
      "outputs": [
        {
          "output_type": "stream",
          "name": "stdout",
          "text": [
            "5\n"
          ]
        }
      ]
    },
    {
      "cell_type": "code",
      "metadata": {
        "colab": {
          "base_uri": "https://localhost:8080/"
        },
        "id": "DUNeWXRJYDiW",
        "outputId": "e538f17d-4f2a-466a-b49a-9158a4c1f80a"
      },
      "source": [
        "print(x + 1) # Addition"
      ],
      "execution_count": 9,
      "outputs": [
        {
          "output_type": "stream",
          "name": "stdout",
          "text": [
            "6\n"
          ]
        }
      ]
    },
    {
      "cell_type": "code",
      "metadata": {
        "colab": {
          "base_uri": "https://localhost:8080/"
        },
        "id": "qOc8gWCJYFmw",
        "outputId": "8846ef25-4119-41cc-d8c8-b3a51161d5b1"
      },
      "source": [
        "print(x - 1)  # Subtraction"
      ],
      "execution_count": 10,
      "outputs": [
        {
          "output_type": "stream",
          "name": "stdout",
          "text": [
            "4\n"
          ]
        }
      ]
    },
    {
      "cell_type": "code",
      "metadata": {
        "colab": {
          "base_uri": "https://localhost:8080/"
        },
        "id": "z2zO36zdYHSR",
        "outputId": "97f57fad-f27c-4dbc-8080-8483c15b7dac"
      },
      "source": [
        "print(x * 2)  # Multiplication"
      ],
      "execution_count": 11,
      "outputs": [
        {
          "output_type": "stream",
          "name": "stdout",
          "text": [
            "10\n"
          ]
        }
      ]
    },
    {
      "cell_type": "code",
      "metadata": {
        "colab": {
          "base_uri": "https://localhost:8080/"
        },
        "id": "XzlnB84bYIcn",
        "outputId": "470f0b93-e534-478a-d5e4-769bc5c1d9fa"
      },
      "source": [
        "print(x ** 2) # Exponentiation"
      ],
      "execution_count": 12,
      "outputs": [
        {
          "output_type": "stream",
          "name": "stdout",
          "text": [
            "25\n"
          ]
        }
      ]
    },
    {
      "cell_type": "code",
      "metadata": {
        "id": "L7S1pM5hYKRF"
      },
      "source": [
        "x += 1"
      ],
      "execution_count": 13,
      "outputs": []
    },
    {
      "cell_type": "code",
      "metadata": {
        "colab": {
          "base_uri": "https://localhost:8080/"
        },
        "id": "_amvIZbuZGS0",
        "outputId": "b28f8d3b-dfdc-4d9f-e68a-fc889de42632"
      },
      "source": [
        "print(x)"
      ],
      "execution_count": 14,
      "outputs": [
        {
          "output_type": "stream",
          "name": "stdout",
          "text": [
            "6\n"
          ]
        }
      ]
    },
    {
      "cell_type": "code",
      "metadata": {
        "id": "4sGTtzlyZHWE"
      },
      "source": [
        "x *= 2"
      ],
      "execution_count": 15,
      "outputs": []
    },
    {
      "cell_type": "code",
      "metadata": {
        "colab": {
          "base_uri": "https://localhost:8080/"
        },
        "id": "Us1ghGX0ZI3m",
        "outputId": "1131a097-7240-46c1-f089-029d7e32e68e"
      },
      "source": [
        "print(x)"
      ],
      "execution_count": 16,
      "outputs": [
        {
          "output_type": "stream",
          "name": "stdout",
          "text": [
            "12\n"
          ]
        }
      ]
    },
    {
      "cell_type": "code",
      "metadata": {
        "id": "BSA9f91XZJ34"
      },
      "source": [
        "y = 1.5"
      ],
      "execution_count": 17,
      "outputs": []
    },
    {
      "cell_type": "code",
      "metadata": {
        "colab": {
          "base_uri": "https://localhost:8080/"
        },
        "id": "CbpocKU5ZPJx",
        "outputId": "1c7feff7-833a-4d4f-a4ce-83ce653ef7a5"
      },
      "source": [
        "print(type(y))"
      ],
      "execution_count": 18,
      "outputs": [
        {
          "output_type": "stream",
          "name": "stdout",
          "text": [
            "<class 'float'>\n"
          ]
        }
      ]
    },
    {
      "cell_type": "code",
      "metadata": {
        "colab": {
          "base_uri": "https://localhost:8080/"
        },
        "id": "BAtMJDS4ZQu5",
        "outputId": "df3276ca-33aa-4186-f02a-40e26afe558f"
      },
      "source": [
        "y, y + 1, y * 2, y ** 2"
      ],
      "execution_count": 20,
      "outputs": [
        {
          "output_type": "execute_result",
          "data": {
            "text/plain": [
              "(1.5, 2.5, 3.0, 2.25)"
            ]
          },
          "metadata": {},
          "execution_count": 20
        }
      ]
    },
    {
      "cell_type": "markdown",
      "metadata": {
        "id": "HGBV752MZhuM"
      },
      "source": [
        "Booleans: Python implements all of the usual operators for Boolean logic, but uses English words rather than symbols (&&, ||, etc)"
      ]
    },
    {
      "cell_type": "code",
      "metadata": {
        "id": "RKaqi9KgZXKC"
      },
      "source": [
        "t = True\n",
        "f = False"
      ],
      "execution_count": 24,
      "outputs": []
    },
    {
      "cell_type": "code",
      "metadata": {
        "colab": {
          "base_uri": "https://localhost:8080/"
        },
        "id": "DHRrPm-1Znoq",
        "outputId": "77020522-3e29-4667-b062-ecd6976e479e"
      },
      "source": [
        "print(type(t))"
      ],
      "execution_count": 25,
      "outputs": [
        {
          "output_type": "stream",
          "name": "stdout",
          "text": [
            "<class 'bool'>\n"
          ]
        }
      ]
    },
    {
      "cell_type": "code",
      "metadata": {
        "colab": {
          "base_uri": "https://localhost:8080/"
        },
        "id": "gHQH-8EvZpOh",
        "outputId": "37067878-342b-467b-ea01-23a7d51cb372"
      },
      "source": [
        "print(t and f) # Logical AND"
      ],
      "execution_count": 26,
      "outputs": [
        {
          "output_type": "stream",
          "name": "stdout",
          "text": [
            "False\n"
          ]
        }
      ]
    },
    {
      "cell_type": "code",
      "metadata": {
        "colab": {
          "base_uri": "https://localhost:8080/"
        },
        "id": "85MmnKY9Zwxe",
        "outputId": "fb17d131-0091-47cd-fbee-1a1c5a41a386"
      },
      "source": [
        "t or f  # Logical OR"
      ],
      "execution_count": 27,
      "outputs": [
        {
          "output_type": "execute_result",
          "data": {
            "text/plain": [
              "True"
            ]
          },
          "metadata": {},
          "execution_count": 27
        }
      ]
    },
    {
      "cell_type": "code",
      "metadata": {
        "colab": {
          "base_uri": "https://localhost:8080/"
        },
        "id": "3pFUf-jsZz7M",
        "outputId": "4455f9f1-b401-4623-ebde-a80cc344796f"
      },
      "source": [
        "print(not t) # Logical NOT"
      ],
      "execution_count": 28,
      "outputs": [
        {
          "output_type": "stream",
          "name": "stdout",
          "text": [
            "False\n"
          ]
        }
      ]
    },
    {
      "cell_type": "code",
      "metadata": {
        "colab": {
          "base_uri": "https://localhost:8080/"
        },
        "id": "zSLgsA9xZ1hT",
        "outputId": "ae7365e9-9a67-401b-a0f3-9c7b8bb6bde1"
      },
      "source": [
        "print(t != f) # Logical XOR"
      ],
      "execution_count": 29,
      "outputs": [
        {
          "output_type": "stream",
          "name": "stdout",
          "text": [
            "True\n"
          ]
        }
      ]
    },
    {
      "cell_type": "markdown",
      "metadata": {
        "id": "qtJYN4NkaAQH"
      },
      "source": [
        "Strings: Python has great support for strings"
      ]
    },
    {
      "cell_type": "code",
      "metadata": {
        "id": "aQhmcnW4Z9lU"
      },
      "source": [
        "hello = 'hello'   # String literals can use single quotes\n",
        "world = \"world\"   # or double quotes; it does no matter"
      ],
      "execution_count": 30,
      "outputs": []
    },
    {
      "cell_type": "code",
      "metadata": {
        "colab": {
          "base_uri": "https://localhost:8080/"
        },
        "id": "sIDrNo7ia1I_",
        "outputId": "f9586a2c-a187-4f6e-d3cd-ee8225ffea60"
      },
      "source": [
        "print(hello)\n",
        "print(len(hello))"
      ],
      "execution_count": 33,
      "outputs": [
        {
          "output_type": "stream",
          "name": "stdout",
          "text": [
            "hello\n",
            "5\n"
          ]
        }
      ]
    },
    {
      "cell_type": "code",
      "metadata": {
        "id": "ZSefCHLMa4FE"
      },
      "source": [
        "hw = hello + ' ' + world # String concatenation"
      ],
      "execution_count": 34,
      "outputs": []
    },
    {
      "cell_type": "code",
      "metadata": {
        "colab": {
          "base_uri": "https://localhost:8080/",
          "height": 35
        },
        "id": "NemUvqnMbC-H",
        "outputId": "f7ca98c0-9f9d-4f62-f786-46f588181f7c"
      },
      "source": [
        "hw"
      ],
      "execution_count": 35,
      "outputs": [
        {
          "output_type": "execute_result",
          "data": {
            "application/vnd.google.colaboratory.intrinsic+json": {
              "type": "string"
            },
            "text/plain": [
              "'hello world'"
            ]
          },
          "metadata": {},
          "execution_count": 35
        }
      ]
    },
    {
      "cell_type": "code",
      "metadata": {
        "id": "iNmWQKnvbD5J"
      },
      "source": [
        "hw11 = '%s %s %d' % (hello, world, 11)  # sprintf style string formatting"
      ],
      "execution_count": 36,
      "outputs": []
    },
    {
      "cell_type": "code",
      "metadata": {
        "colab": {
          "base_uri": "https://localhost:8080/",
          "height": 35
        },
        "id": "XAQz6jGDbhhg",
        "outputId": "205b7fa5-bf3f-4eef-cf34-5c383a3dd255"
      },
      "source": [
        "hw11"
      ],
      "execution_count": 37,
      "outputs": [
        {
          "output_type": "execute_result",
          "data": {
            "application/vnd.google.colaboratory.intrinsic+json": {
              "type": "string"
            },
            "text/plain": [
              "'hello world 11'"
            ]
          },
          "metadata": {},
          "execution_count": 37
        }
      ]
    },
    {
      "cell_type": "markdown",
      "metadata": {
        "id": "2Lz1P9nrbrEh"
      },
      "source": [
        "**Containers**\n",
        "Python includes serval buit-in container types: lists, dictionaries, sets, and tuples\n",
        "\n",
        "List: A list the Python equivalent of an array, but is resizeable and can contain elements of different types:"
      ]
    },
    {
      "cell_type": "code",
      "metadata": {
        "id": "Ec5LX05zbifi"
      },
      "source": [
        "xl = [3, 1, 2]  # Crate a list"
      ],
      "execution_count": 38,
      "outputs": []
    },
    {
      "cell_type": "code",
      "metadata": {
        "colab": {
          "base_uri": "https://localhost:8080/"
        },
        "id": "0RKRGxmmcJe-",
        "outputId": "69ac03da-aa2c-495d-dfb7-55dd03a5a861"
      },
      "source": [
        "print(xl, xl[2])"
      ],
      "execution_count": 39,
      "outputs": [
        {
          "output_type": "stream",
          "name": "stdout",
          "text": [
            "[3, 1, 2] 2\n"
          ]
        }
      ]
    },
    {
      "cell_type": "code",
      "metadata": {
        "colab": {
          "base_uri": "https://localhost:8080/"
        },
        "id": "zuI7UsF5cL6A",
        "outputId": "2dc59049-d4d5-46a5-8ce6-fc8fdebcbe97"
      },
      "source": [
        "print(xl[-3])"
      ],
      "execution_count": 42,
      "outputs": [
        {
          "output_type": "stream",
          "name": "stdout",
          "text": [
            "3\n"
          ]
        }
      ]
    },
    {
      "cell_type": "code",
      "metadata": {
        "id": "DIaHO9OYcPWB"
      },
      "source": [
        "xl[2] = 'foo' # Lists can contain elements of different types"
      ],
      "execution_count": 43,
      "outputs": []
    },
    {
      "cell_type": "code",
      "metadata": {
        "colab": {
          "base_uri": "https://localhost:8080/"
        },
        "id": "Su4-Kd72cdWG",
        "outputId": "dcb9c7ca-f670-41cf-fc16-89334f3da49d"
      },
      "source": [
        "print(xl)"
      ],
      "execution_count": 44,
      "outputs": [
        {
          "output_type": "stream",
          "name": "stdout",
          "text": [
            "[3, 1, 'foo']\n"
          ]
        }
      ]
    },
    {
      "cell_type": "code",
      "metadata": {
        "id": "pKwGz-3Acevg"
      },
      "source": [
        "xl.append('bar')  # Add a new element to the end of the list"
      ],
      "execution_count": 45,
      "outputs": []
    },
    {
      "cell_type": "code",
      "metadata": {
        "colab": {
          "base_uri": "https://localhost:8080/"
        },
        "id": "2VWA1JMkcjBr",
        "outputId": "4b254b1d-d093-4ab1-a48f-8bfd80b607ed"
      },
      "source": [
        "print(xl)"
      ],
      "execution_count": 46,
      "outputs": [
        {
          "output_type": "stream",
          "name": "stdout",
          "text": [
            "[3, 1, 'foo', 'bar']\n"
          ]
        }
      ]
    },
    {
      "cell_type": "code",
      "metadata": {
        "id": "tXslbxFFcwR-"
      },
      "source": [
        "x = xl.pop()"
      ],
      "execution_count": 47,
      "outputs": []
    },
    {
      "cell_type": "code",
      "metadata": {
        "colab": {
          "base_uri": "https://localhost:8080/"
        },
        "id": "EzyE9cFbcy4z",
        "outputId": "aa8da690-08ae-4a9e-a85c-956582d1644d"
      },
      "source": [
        "print(x)"
      ],
      "execution_count": 48,
      "outputs": [
        {
          "output_type": "stream",
          "name": "stdout",
          "text": [
            "bar\n"
          ]
        }
      ]
    },
    {
      "cell_type": "code",
      "metadata": {
        "colab": {
          "base_uri": "https://localhost:8080/"
        },
        "id": "9a_H_J3bcz0_",
        "outputId": "3d9c5b9c-712d-4221-cb87-39b42b201e1a"
      },
      "source": [
        "print(x, xl)"
      ],
      "execution_count": 49,
      "outputs": [
        {
          "output_type": "stream",
          "name": "stdout",
          "text": [
            "bar [3, 1, 'foo']\n"
          ]
        }
      ]
    },
    {
      "cell_type": "markdown",
      "metadata": {
        "id": "IXwsUCc_c-jk"
      },
      "source": [
        "Slicing: In addition to accessing list elements one at a time, Python provides concise syntax to access sublists."
      ]
    },
    {
      "cell_type": "code",
      "metadata": {
        "id": "NJHRRSL8c49q"
      },
      "source": [
        "nums = list(range(5)) # range is a built-in function that crates a list of integers"
      ],
      "execution_count": 51,
      "outputs": []
    },
    {
      "cell_type": "code",
      "metadata": {
        "colab": {
          "base_uri": "https://localhost:8080/"
        },
        "id": "0mNJsblDdRF7",
        "outputId": "439fd8a3-f03e-4e32-b7cc-a3d0dbc32e34"
      },
      "source": [
        "print(nums)"
      ],
      "execution_count": 52,
      "outputs": [
        {
          "output_type": "stream",
          "name": "stdout",
          "text": [
            "[0, 1, 2, 3, 4]\n"
          ]
        }
      ]
    },
    {
      "cell_type": "code",
      "metadata": {
        "colab": {
          "base_uri": "https://localhost:8080/"
        },
        "id": "ud520hJkdYge",
        "outputId": "456a0fd8-d741-404e-8009-6afc5ea64e31"
      },
      "source": [
        "print(nums[2:4])  # Get a slice from index 2 to 4 (exclusive)"
      ],
      "execution_count": 56,
      "outputs": [
        {
          "output_type": "stream",
          "name": "stdout",
          "text": [
            "[2, 3]\n"
          ]
        }
      ]
    },
    {
      "cell_type": "code",
      "metadata": {
        "colab": {
          "base_uri": "https://localhost:8080/"
        },
        "id": "ApiUWAoFdc4u",
        "outputId": "688f19ce-0f65-47c5-b0f9-cb4532afaa94"
      },
      "source": [
        "print(nums[2:]) # Get a slice from index 2 to the end"
      ],
      "execution_count": 57,
      "outputs": [
        {
          "output_type": "stream",
          "name": "stdout",
          "text": [
            "[2, 3, 4]\n"
          ]
        }
      ]
    },
    {
      "cell_type": "code",
      "metadata": {
        "colab": {
          "base_uri": "https://localhost:8080/"
        },
        "id": "tBdgIk9Sd8I2",
        "outputId": "b71a95fa-3504-4a14-ea7b-e8898a49dca2"
      },
      "source": [
        "print(nums[:2]) # Get a slice from the start to index 2 (exclusive)"
      ],
      "execution_count": 59,
      "outputs": [
        {
          "output_type": "stream",
          "name": "stdout",
          "text": [
            "[0, 1]\n"
          ]
        }
      ]
    },
    {
      "cell_type": "code",
      "metadata": {
        "colab": {
          "base_uri": "https://localhost:8080/"
        },
        "id": "abYUBnBad_6C",
        "outputId": "e2e4daa6-4776-4d92-bde7-e23610fc9495"
      },
      "source": [
        "print(nums[:])  # Get a slice of the whole list"
      ],
      "execution_count": 60,
      "outputs": [
        {
          "output_type": "stream",
          "name": "stdout",
          "text": [
            "[0, 1, 2, 3, 4]\n"
          ]
        }
      ]
    },
    {
      "cell_type": "code",
      "metadata": {
        "colab": {
          "base_uri": "https://localhost:8080/"
        },
        "id": "65L5dINdeN6u",
        "outputId": "56ba9270-061e-4ecb-ef32-567071400a60"
      },
      "source": [
        "print(nums[:-1])  # Slice indices can be negative"
      ],
      "execution_count": 63,
      "outputs": [
        {
          "output_type": "stream",
          "name": "stdout",
          "text": [
            "[0, 1, 2, 3]\n"
          ]
        }
      ]
    },
    {
      "cell_type": "code",
      "metadata": {
        "id": "a72OwFkCeVGU"
      },
      "source": [
        "nums[2:4] = [8, 9]  # Assign a new sublist to a slice"
      ],
      "execution_count": 64,
      "outputs": []
    },
    {
      "cell_type": "code",
      "metadata": {
        "colab": {
          "base_uri": "https://localhost:8080/"
        },
        "id": "BazpPQmsekYA",
        "outputId": "f9ecdc41-676c-44ec-b3be-ad26ec636597"
      },
      "source": [
        "print(nums)"
      ],
      "execution_count": 65,
      "outputs": [
        {
          "output_type": "stream",
          "name": "stdout",
          "text": [
            "[0, 1, 8, 9, 4]\n"
          ]
        }
      ]
    },
    {
      "cell_type": "markdown",
      "metadata": {
        "id": "KKOLS8kVew6T"
      },
      "source": [
        "Loops: You can loop over the elements of a list like this:"
      ]
    },
    {
      "cell_type": "code",
      "metadata": {
        "colab": {
          "base_uri": "https://localhost:8080/"
        },
        "id": "tZzCh_Qiel1g",
        "outputId": "21daf1c8-6d29-447b-fd4f-9dd0415737e8"
      },
      "source": [
        "animals = ['cat', 'dog', 'monky']\n",
        "for animal in animals:\n",
        "  print(animal)"
      ],
      "execution_count": 68,
      "outputs": [
        {
          "output_type": "stream",
          "name": "stdout",
          "text": [
            "cat\n",
            "dog\n",
            "monky\n"
          ]
        }
      ]
    },
    {
      "cell_type": "code",
      "metadata": {
        "colab": {
          "base_uri": "https://localhost:8080/"
        },
        "id": "APgAmEACe5DW",
        "outputId": "425f8b97-5ff2-49f3-eda0-2c101244cebc"
      },
      "source": [
        "for idx, animal in enumerate(animals):  # access to the index of each element within the body of loop\n",
        "  print('#%d:  %s' % (idx, animal))"
      ],
      "execution_count": 71,
      "outputs": [
        {
          "output_type": "stream",
          "name": "stdout",
          "text": [
            "#0:  cat\n",
            "#1:  dog\n",
            "#2:  monky\n"
          ]
        }
      ]
    },
    {
      "cell_type": "markdown",
      "metadata": {
        "id": "wCnrt4Hlfwgr"
      },
      "source": [
        "List comprehensions: When programming, frequently we want to transform one type of data into another."
      ]
    },
    {
      "cell_type": "code",
      "metadata": {
        "colab": {
          "base_uri": "https://localhost:8080/"
        },
        "id": "fowOS2uwfOLa",
        "outputId": "ada16104-ca2d-4751-9b61-3f902d147200"
      },
      "source": [
        "nums = [0, 1, 2, 3, 4]\n",
        "squares = []\n",
        "\n",
        "for x in nums:\n",
        "  squares.append(x ** 2) \n",
        "\n",
        "print(squares)"
      ],
      "execution_count": 73,
      "outputs": [
        {
          "output_type": "stream",
          "name": "stdout",
          "text": [
            "[0, 1, 4, 9, 16]\n"
          ]
        }
      ]
    },
    {
      "cell_type": "markdown",
      "metadata": {
        "id": "wXI28sWigDBR"
      },
      "source": [
        "List conprehensions can also contain conditions:"
      ]
    },
    {
      "cell_type": "code",
      "metadata": {
        "colab": {
          "base_uri": "https://localhost:8080/"
        },
        "id": "daKYIOLbgBLA",
        "outputId": "54a6b08a-7918-4008-e945-b7301c4b1277"
      },
      "source": [
        "nums = [0, 1, 2, 3, 4]\n",
        "even_squares = [x ** 2 for x in nums if x % 2 == 0]\n",
        "\n",
        "print(even_squares)"
      ],
      "execution_count": 74,
      "outputs": [
        {
          "output_type": "stream",
          "name": "stdout",
          "text": [
            "[0, 4, 16]\n"
          ]
        }
      ]
    },
    {
      "cell_type": "markdown",
      "metadata": {
        "id": "mbO4jHlngXXc"
      },
      "source": [
        "Dictionaries: A dictionary stores  (key, value) pairs, similar to a Map in Java or an object in Javascript."
      ]
    },
    {
      "cell_type": "code",
      "metadata": {
        "id": "ZmLZhaengSNC"
      },
      "source": [
        "d = {'cat': 'cute', 'dog': 'furry'} # Crate a new dictionary with some data"
      ],
      "execution_count": 75,
      "outputs": []
    },
    {
      "cell_type": "code",
      "metadata": {
        "colab": {
          "base_uri": "https://localhost:8080/"
        },
        "id": "pKkq3fSggrrx",
        "outputId": "20b47e99-76ec-4d1a-f77c-1283dbb9e4d2"
      },
      "source": [
        "print(d['cat'])   # Get an entry from a ditionary"
      ],
      "execution_count": 76,
      "outputs": [
        {
          "output_type": "stream",
          "name": "stdout",
          "text": [
            "cute\n"
          ]
        }
      ]
    },
    {
      "cell_type": "code",
      "metadata": {
        "colab": {
          "base_uri": "https://localhost:8080/"
        },
        "id": "zoUGbWokguS-",
        "outputId": "cb0b7812-51e6-412b-e091-b5635c10c424"
      },
      "source": [
        "print('cat1' in d) # Check if a dictionary has given key"
      ],
      "execution_count": 89,
      "outputs": [
        {
          "output_type": "stream",
          "name": "stdout",
          "text": [
            "False\n"
          ]
        }
      ]
    },
    {
      "cell_type": "code",
      "metadata": {
        "id": "ztdbfA6lg3tS"
      },
      "source": [
        "d['fish'] = 'wet'   # Set an entry in a dictionary"
      ],
      "execution_count": 90,
      "outputs": []
    },
    {
      "cell_type": "code",
      "metadata": {
        "colab": {
          "base_uri": "https://localhost:8080/"
        },
        "id": "z0EdFu4ehCkX",
        "outputId": "643af33a-554b-4842-f1a0-11af411090ea"
      },
      "source": [
        "print(d['fish'])"
      ],
      "execution_count": 91,
      "outputs": [
        {
          "output_type": "stream",
          "name": "stdout",
          "text": [
            "wet\n"
          ]
        }
      ]
    },
    {
      "cell_type": "code",
      "metadata": {
        "colab": {
          "base_uri": "https://localhost:8080/"
        },
        "id": "EymXweT5hISP",
        "outputId": "6ab07e85-d580-47fb-929b-0a0d28c096bd"
      },
      "source": [
        "print(d.get('monkey', 'N/A')) # Get an element with a default"
      ],
      "execution_count": 92,
      "outputs": [
        {
          "output_type": "stream",
          "name": "stdout",
          "text": [
            "N/A\n"
          ]
        }
      ]
    },
    {
      "cell_type": "code",
      "metadata": {
        "colab": {
          "base_uri": "https://localhost:8080/"
        },
        "id": "bsBZ89VJjP8P",
        "outputId": "5b2c82b0-be1a-4a34-e921-cd0d1886f5bf"
      },
      "source": [
        "print(d.get('fish', 'N/A')) # Get an element with a default"
      ],
      "execution_count": 93,
      "outputs": [
        {
          "output_type": "stream",
          "name": "stdout",
          "text": [
            "wet\n"
          ]
        }
      ]
    },
    {
      "cell_type": "code",
      "metadata": {
        "id": "TVSOiN2DjUSR"
      },
      "source": [
        "del d['fish']   # Remove an element from a dictionary"
      ],
      "execution_count": 94,
      "outputs": []
    },
    {
      "cell_type": "code",
      "metadata": {
        "colab": {
          "base_uri": "https://localhost:8080/"
        },
        "id": "Z8YYW3bsjh7u",
        "outputId": "76971a10-e08b-452b-8cf1-600e041d26c2"
      },
      "source": [
        "print(d.get('fish', 'N/A')) # \"fist\" is no logner a key"
      ],
      "execution_count": 95,
      "outputs": [
        {
          "output_type": "stream",
          "name": "stdout",
          "text": [
            "N/A\n"
          ]
        }
      ]
    },
    {
      "cell_type": "markdown",
      "metadata": {
        "id": "9suRHXLGj2JK"
      },
      "source": [
        "Loops: It is easy to iterate over the keys in a dictionary"
      ]
    },
    {
      "cell_type": "code",
      "metadata": {
        "colab": {
          "base_uri": "https://localhost:8080/"
        },
        "id": "AQdkAtyFjnDe",
        "outputId": "edf5a4ab-42bd-4281-e770-b24f8d2528dd"
      },
      "source": [
        "d = {'person': 2, 'cat': 4, 'spider': 8}\n",
        "for animal in d:\n",
        "  legs = d[animal]\n",
        "  \n",
        "  print('A %s has %d legs' % (animal, legs))"
      ],
      "execution_count": 96,
      "outputs": [
        {
          "output_type": "stream",
          "name": "stdout",
          "text": [
            "A person has 2 legs\n",
            "A cat has 4 legs\n",
            "A spider has 8 legs\n"
          ]
        }
      ]
    },
    {
      "cell_type": "code",
      "metadata": {
        "colab": {
          "base_uri": "https://localhost:8080/"
        },
        "id": "wzMonvbkkQOc",
        "outputId": "2d6eab43-9f13-44b0-9635-753855ae240c"
      },
      "source": [
        "d = {'person': 2, 'cat': 4, 'spider': 8}\n",
        "for animal, legs in d.items():\n",
        "  print('A %s has %d legs' % (animal, legs))"
      ],
      "execution_count": 97,
      "outputs": [
        {
          "output_type": "stream",
          "name": "stdout",
          "text": [
            "A person has 2 legs\n",
            "A cat has 4 legs\n",
            "A spider has 8 legs\n"
          ]
        }
      ]
    },
    {
      "cell_type": "markdown",
      "metadata": {
        "id": "9pXuDER2ktRh"
      },
      "source": [
        "Dictionary comprehensiions: These are similar to list comprehensions, but allow you to easily construct dictionaries"
      ]
    },
    {
      "cell_type": "code",
      "metadata": {
        "colab": {
          "base_uri": "https://localhost:8080/"
        },
        "id": "1aetlrXrkplO",
        "outputId": "4203f647-6bbd-4f0d-eed1-c0a192149072"
      },
      "source": [
        "nums = [0, 1, 2, 3, 4]\n",
        "even_num_to_square = {x: x ** 2 for x in nums if x % 2 == 0}\n",
        "\n",
        "print(even_num_to_square)"
      ],
      "execution_count": 99,
      "outputs": [
        {
          "output_type": "stream",
          "name": "stdout",
          "text": [
            "{0: 0, 2: 4, 4: 16}\n"
          ]
        }
      ]
    },
    {
      "cell_type": "markdown",
      "metadata": {
        "id": "2TPCb7dKlYiJ"
      },
      "source": [
        "Sets: A set is an unordered collection of distinct elements"
      ]
    },
    {
      "cell_type": "code",
      "metadata": {
        "colab": {
          "base_uri": "https://localhost:8080/"
        },
        "id": "kFUH7fxSlW_U",
        "outputId": "ce56d195-2035-4682-c61c-66fc9556a43c"
      },
      "source": [
        "animals = {'cat', 'dog'}\n",
        "print('cat' in animals)   # Check if an element is in a set"
      ],
      "execution_count": 102,
      "outputs": [
        {
          "output_type": "stream",
          "name": "stdout",
          "text": [
            "True\n"
          ]
        }
      ]
    },
    {
      "cell_type": "code",
      "metadata": {
        "colab": {
          "base_uri": "https://localhost:8080/"
        },
        "id": "Ri7KxJ9iltkm",
        "outputId": "68f49063-660e-486d-df0d-8600cdffc265"
      },
      "source": [
        "print('fish' in animals)"
      ],
      "execution_count": 103,
      "outputs": [
        {
          "output_type": "stream",
          "name": "stdout",
          "text": [
            "False\n"
          ]
        }
      ]
    },
    {
      "cell_type": "code",
      "metadata": {
        "id": "xD9l4hP9l2HK"
      },
      "source": [
        "animals.add('fish')"
      ],
      "execution_count": 104,
      "outputs": []
    },
    {
      "cell_type": "code",
      "metadata": {
        "colab": {
          "base_uri": "https://localhost:8080/"
        },
        "id": "S_awHO24l6QI",
        "outputId": "73e4ef8a-37b1-441e-f12d-0bd199e2dff9"
      },
      "source": [
        "print('fish' in animals)"
      ],
      "execution_count": 105,
      "outputs": [
        {
          "output_type": "stream",
          "name": "stdout",
          "text": [
            "True\n"
          ]
        }
      ]
    },
    {
      "cell_type": "code",
      "metadata": {
        "colab": {
          "base_uri": "https://localhost:8080/"
        },
        "id": "sZL7VkLTl-Ex",
        "outputId": "7416e23d-738e-4678-a33c-984f3eef9c65"
      },
      "source": [
        "print(len(animals))"
      ],
      "execution_count": 106,
      "outputs": [
        {
          "output_type": "stream",
          "name": "stdout",
          "text": [
            "3\n"
          ]
        }
      ]
    },
    {
      "cell_type": "code",
      "metadata": {
        "id": "RDfmRf4tmDF3"
      },
      "source": [
        "animals.add('cat')    # Adding an element that is already in the set does nothing"
      ],
      "execution_count": 107,
      "outputs": []
    },
    {
      "cell_type": "code",
      "metadata": {
        "colab": {
          "base_uri": "https://localhost:8080/"
        },
        "id": "qyO7tMRLmMEl",
        "outputId": "137127ae-72e9-4e4d-dfa1-718d3fff1b52"
      },
      "source": [
        "print(animals)"
      ],
      "execution_count": 108,
      "outputs": [
        {
          "output_type": "stream",
          "name": "stdout",
          "text": [
            "{'dog', 'cat', 'fish'}\n"
          ]
        }
      ]
    },
    {
      "cell_type": "code",
      "metadata": {
        "id": "MFwlpmT-mNU0"
      },
      "source": [
        "animals.remove('cat')"
      ],
      "execution_count": 109,
      "outputs": []
    },
    {
      "cell_type": "code",
      "metadata": {
        "colab": {
          "base_uri": "https://localhost:8080/"
        },
        "id": "iC6FkL7NmYjv",
        "outputId": "d9ffb038-26a8-4a26-b50b-6ccb2b5175c8"
      },
      "source": [
        "print(len(animals))"
      ],
      "execution_count": 110,
      "outputs": [
        {
          "output_type": "stream",
          "name": "stdout",
          "text": [
            "2\n"
          ]
        }
      ]
    },
    {
      "cell_type": "markdown",
      "metadata": {
        "id": "yvSUdUmumhGF"
      },
      "source": [
        "**Fuctions**\n",
        "Python functions are defined using the def keyword.\n"
      ]
    },
    {
      "cell_type": "code",
      "metadata": {
        "colab": {
          "base_uri": "https://localhost:8080/"
        },
        "id": "kzxAlmycmaWk",
        "outputId": "8db9d3db-c6a1-4a70-ba20-b7db68ed0276"
      },
      "source": [
        "def sign(x):\n",
        "  if x > 0:\n",
        "    return 'positive'\n",
        "  elif x < 0:\n",
        "    return 'negative'\n",
        "  else:\n",
        "    return 'zero'\n",
        "\n",
        "for x in [-1, 0, 1]:\n",
        "  print(sign(x))"
      ],
      "execution_count": 123,
      "outputs": [
        {
          "output_type": "stream",
          "name": "stdout",
          "text": [
            "negative\n",
            "zero\n",
            "positive\n"
          ]
        }
      ]
    },
    {
      "cell_type": "code",
      "metadata": {
        "colab": {
          "base_uri": "https://localhost:8080/"
        },
        "id": "wSFPv0vnmufT",
        "outputId": "79fdd3bb-ab24-48f0-8c89-6e3688b28207"
      },
      "source": [
        "def hello(name, loud=False):\n",
        "  if loud:\n",
        "    print(\"Hello, %s\" % name.upper())\n",
        "  else:\n",
        "    print(\"Hello, %s\" % name)\n",
        "\n",
        "hello('John')"
      ],
      "execution_count": 126,
      "outputs": [
        {
          "output_type": "stream",
          "name": "stdout",
          "text": [
            "Hello, John\n"
          ]
        }
      ]
    },
    {
      "cell_type": "code",
      "metadata": {
        "colab": {
          "base_uri": "https://localhost:8080/"
        },
        "id": "pGi_b7qAmwHP",
        "outputId": "2b79cc51-bded-443b-cd8a-1a1bf41d53c3"
      },
      "source": [
        "hello(\"Jane\", loud=True)"
      ],
      "execution_count": 127,
      "outputs": [
        {
          "output_type": "stream",
          "name": "stdout",
          "text": [
            "Hello, JANE\n"
          ]
        }
      ]
    },
    {
      "cell_type": "markdown",
      "metadata": {
        "id": "6t7isAmBuglq"
      },
      "source": [
        "**Numpy**\n",
        " is the core library for scientific computing in Python. It provides a high-performance multidimentional array object, and tools for working with these arrays."
      ]
    },
    {
      "cell_type": "markdown",
      "metadata": {
        "id": "Zhzt5EymxbfF"
      },
      "source": [
        "**Arrays**\n",
        "A numpy array is a grid of values, all of the same type, and is indexed by a tuple of nonnegative integers."
      ]
    },
    {
      "cell_type": "code",
      "metadata": {
        "id": "5MKhl-QgmxvB"
      },
      "source": [
        "import numpy as np\n",
        "\n",
        "a = np.array([1, 2, 3]) # Create a 1D array"
      ],
      "execution_count": 151,
      "outputs": []
    },
    {
      "cell_type": "code",
      "metadata": {
        "colab": {
          "base_uri": "https://localhost:8080/"
        },
        "id": "cp-hdah6m2O4",
        "outputId": "5787295d-26ed-4372-a8af-1a0d2a607244"
      },
      "source": [
        "print(type(a))"
      ],
      "execution_count": 152,
      "outputs": [
        {
          "output_type": "stream",
          "name": "stdout",
          "text": [
            "<class 'numpy.ndarray'>\n"
          ]
        }
      ]
    },
    {
      "cell_type": "code",
      "metadata": {
        "colab": {
          "base_uri": "https://localhost:8080/"
        },
        "id": "5LxjMfgKnCSb",
        "outputId": "776e0eaf-ec34-453c-f6e0-7765a4656cf8"
      },
      "source": [
        "print(a.shape)"
      ],
      "execution_count": 153,
      "outputs": [
        {
          "output_type": "stream",
          "name": "stdout",
          "text": [
            "(3,)\n"
          ]
        }
      ]
    },
    {
      "cell_type": "code",
      "metadata": {
        "colab": {
          "base_uri": "https://localhost:8080/"
        },
        "id": "VpnSD_n5xzZE",
        "outputId": "f786deba-e5cf-4474-816e-4626e0b2849a"
      },
      "source": [
        "print(a[0], a[1], a[2])"
      ],
      "execution_count": 154,
      "outputs": [
        {
          "output_type": "stream",
          "name": "stdout",
          "text": [
            "1 2 3\n"
          ]
        }
      ]
    },
    {
      "cell_type": "code",
      "metadata": {
        "id": "ljDVzpaFx3PZ"
      },
      "source": [
        "a[0] = 5"
      ],
      "execution_count": 155,
      "outputs": []
    },
    {
      "cell_type": "code",
      "metadata": {
        "colab": {
          "base_uri": "https://localhost:8080/"
        },
        "id": "LJpiopVpx5fx",
        "outputId": "a059f8e9-fe60-4e20-c020-1100ec626fea"
      },
      "source": [
        "print(a)"
      ],
      "execution_count": 156,
      "outputs": [
        {
          "output_type": "stream",
          "name": "stdout",
          "text": [
            "[5 2 3]\n"
          ]
        }
      ]
    },
    {
      "cell_type": "code",
      "metadata": {
        "id": "g_Li5yJTx7Tr"
      },
      "source": [
        "b = np.array([[1, 2, 3], [4, 5, 6]])"
      ],
      "execution_count": 157,
      "outputs": []
    },
    {
      "cell_type": "code",
      "metadata": {
        "colab": {
          "base_uri": "https://localhost:8080/"
        },
        "id": "UfqoH1XXyGZ2",
        "outputId": "e3d1dcba-10cd-48e5-dba9-863f77414ae7"
      },
      "source": [
        "print(b.shape)"
      ],
      "execution_count": 158,
      "outputs": [
        {
          "output_type": "stream",
          "name": "stdout",
          "text": [
            "(2, 3)\n"
          ]
        }
      ]
    },
    {
      "cell_type": "code",
      "metadata": {
        "colab": {
          "base_uri": "https://localhost:8080/"
        },
        "id": "rozJsFR9yIAR",
        "outputId": "d0c9e632-460b-4171-b03d-0176341a9515"
      },
      "source": [
        "print(b)"
      ],
      "execution_count": 159,
      "outputs": [
        {
          "output_type": "stream",
          "name": "stdout",
          "text": [
            "[[1 2 3]\n",
            " [4 5 6]]\n"
          ]
        }
      ]
    },
    {
      "cell_type": "markdown",
      "metadata": {
        "id": "lX9P8k_hyZ8z"
      },
      "source": [
        "**Array math**: Basic mathematical functions operate elementwise on arrays, and are available both as operator overloads and as functions in the numpy module"
      ]
    },
    {
      "cell_type": "code",
      "metadata": {
        "id": "eqXyCJhvyJYJ"
      },
      "source": [
        "x = np.array([[1,2],[3,4]], dtype=np.float64)\n",
        "y = np.array([[5,6],[7,8]], dtype=np.float64)"
      ],
      "execution_count": 160,
      "outputs": []
    },
    {
      "cell_type": "code",
      "metadata": {
        "colab": {
          "base_uri": "https://localhost:8080/"
        },
        "id": "d_PYmyFoysJm",
        "outputId": "fb861c5e-1908-472d-8882-26899360948e"
      },
      "source": [
        "print(x + y)\n",
        "print(np.add(x, y))"
      ],
      "execution_count": 161,
      "outputs": [
        {
          "output_type": "stream",
          "name": "stdout",
          "text": [
            "[[ 6.  8.]\n",
            " [10. 12.]]\n",
            "[[ 6.  8.]\n",
            " [10. 12.]]\n"
          ]
        }
      ]
    },
    {
      "cell_type": "code",
      "metadata": {
        "colab": {
          "base_uri": "https://localhost:8080/"
        },
        "id": "-3unVkHeyt35",
        "outputId": "207e7c0c-20b0-4a70-ae1b-94a045db65b4"
      },
      "source": [
        "print(x - y)\n",
        "print(np.subtract(x, y))"
      ],
      "execution_count": 162,
      "outputs": [
        {
          "output_type": "stream",
          "name": "stdout",
          "text": [
            "[[-4. -4.]\n",
            " [-4. -4.]]\n",
            "[[-4. -4.]\n",
            " [-4. -4.]]\n"
          ]
        }
      ]
    },
    {
      "cell_type": "code",
      "metadata": {
        "colab": {
          "base_uri": "https://localhost:8080/"
        },
        "id": "QmcjxLfoywFD",
        "outputId": "0aad4633-9cac-4f54-d15e-8ca6c4ae6d71"
      },
      "source": [
        "print(x * y)\n",
        "print(np.multiply(x, y))"
      ],
      "execution_count": 163,
      "outputs": [
        {
          "output_type": "stream",
          "name": "stdout",
          "text": [
            "[[ 5. 12.]\n",
            " [21. 32.]]\n",
            "[[ 5. 12.]\n",
            " [21. 32.]]\n"
          ]
        }
      ]
    },
    {
      "cell_type": "code",
      "metadata": {
        "colab": {
          "base_uri": "https://localhost:8080/"
        },
        "id": "7hl5a8FyyxuM",
        "outputId": "d991a99d-993f-4306-afaf-65ed090d5092"
      },
      "source": [
        "print(x / y)\n",
        "print(np.divide(x, y))"
      ],
      "execution_count": 164,
      "outputs": [
        {
          "output_type": "stream",
          "name": "stdout",
          "text": [
            "[[0.2        0.33333333]\n",
            " [0.42857143 0.5       ]]\n",
            "[[0.2        0.33333333]\n",
            " [0.42857143 0.5       ]]\n"
          ]
        }
      ]
    },
    {
      "cell_type": "code",
      "metadata": {
        "colab": {
          "base_uri": "https://localhost:8080/"
        },
        "id": "wJw9jlNFyy9V",
        "outputId": "c69e762c-3caf-47da-8d37-553808e362ae"
      },
      "source": [
        "print(np.sqrt(x))   # Elementwise square root"
      ],
      "execution_count": 165,
      "outputs": [
        {
          "output_type": "stream",
          "name": "stdout",
          "text": [
            "[[1.         1.41421356]\n",
            " [1.73205081 2.        ]]\n"
          ]
        }
      ]
    },
    {
      "cell_type": "markdown",
      "metadata": {
        "id": "dDsk_n9IzjAk"
      },
      "source": [
        "**Python Library Installation**\n"
      ]
    },
    {
      "cell_type": "code",
      "metadata": {
        "colab": {
          "base_uri": "https://localhost:8080/"
        },
        "id": "ZJDnzVbH0GjW",
        "outputId": "943fb9c9-d5a4-4d4e-98d8-09104c7918db"
      },
      "source": [
        "!pip install scipy"
      ],
      "execution_count": 169,
      "outputs": [
        {
          "output_type": "stream",
          "name": "stdout",
          "text": [
            "Requirement already satisfied: scipy in /usr/local/lib/python3.7/dist-packages (1.4.1)\n",
            "Requirement already satisfied: numpy>=1.13.3 in /usr/local/lib/python3.7/dist-packages (from scipy) (1.19.5)\n"
          ]
        }
      ]
    }
  ]
}